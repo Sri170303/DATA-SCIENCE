{
 "cells": [
  {
   "cell_type": "markdown",
   "metadata": {},
   "source": [
    "#### We have to build a student database where in we will have:\n",
    "    *Student ID\n",
    "    *Gender\n",
    "    *Department\n",
    "    *Sessional Percentage\n",
    "    *Final Semester Marks\n",
    "    *Backlogs"
   ]
  },
  {
   "cell_type": "code",
   "execution_count": 1,
   "metadata": {},
   "outputs": [],
   "source": [
    "student_ids = ['S01','S02','S03','S04','S05']\n",
    "gender = ['M','F','F','M','F']\n",
    "dept = ['CS','ECE',\"ME\",'CS','CS']\n",
    "sessional_perc=[45,60,73,65.3,71.9]\n",
    "total_marks = [680,750,520,650,780]\n",
    "backlogs = ['NB','NB','NB','NB','NB']"
   ]
  },
  {
   "cell_type": "markdown",
   "metadata": {},
   "source": [
    "#### If any student has received more than 70% in their sessional, increase their total marks by 2%"
   ]
  },
  {
   "cell_type": "code",
   "execution_count": 2,
   "metadata": {},
   "outputs": [
    {
     "data": {
      "text/plain": [
       "[0, 1, 2, 3, 4]"
      ]
     },
     "execution_count": 2,
     "metadata": {},
     "output_type": "execute_result"
    }
   ],
   "source": [
    "list(range(len(student_ids)))"
   ]
  },
  {
   "cell_type": "code",
   "execution_count": 3,
   "metadata": {},
   "outputs": [
    {
     "name": "stdout",
     "output_type": "stream",
     "text": [
      "S01 - marks not increased\n",
      "Marks - 680\n",
      "\n",
      "S02 - marks not increased\n",
      "Marks - 750\n",
      "\n",
      "S03 - marks increased\n",
      "Marks - 530\n",
      "\n",
      "S04 - marks not increased\n",
      "Marks - 650\n",
      "\n",
      "S05 - marks increased\n",
      "Marks - 796\n",
      "\n"
     ]
    }
   ],
   "source": [
    "for i in range(len(student_ids)):\n",
    "    if sessional_perc[i]>70:\n",
    "        total_marks[i]=round(total_marks[i]+total_marks[i]*0.02)\n",
    "        print(f\"{student_ids[i]} - marks increased\")\n",
    "        print(f\"Marks - {total_marks[i]}\\n\")\n",
    "\n",
    "    else:\n",
    "        print(f\"{student_ids[i]} - marks not increased\")\n",
    "        print(f\"Marks - {total_marks[i]}\\n\")\n"
   ]
  },
  {
   "cell_type": "markdown",
   "metadata": {},
   "source": [
    "#### S01 and S04 have recieved updated backlog notice. Update the data set."
   ]
  },
  {
   "cell_type": "code",
   "execution_count": 4,
   "metadata": {},
   "outputs": [],
   "source": [
    "updated_students = ['S01','S04']\n",
    "for i in range(len(student_ids)):\n",
    "    if (student_ids[i] in updated_students):\n",
    "        backlogs[i]='B'"
   ]
  },
  {
   "cell_type": "code",
   "execution_count": 5,
   "metadata": {},
   "outputs": [
    {
     "data": {
      "text/plain": [
       "['B', 'NB', 'NB', 'B', 'NB']"
      ]
     },
     "execution_count": 5,
     "metadata": {},
     "output_type": "execute_result"
    }
   ],
   "source": [
    "backlogs"
   ]
  },
  {
   "cell_type": "markdown",
   "metadata": {},
   "source": [
    "#### if a student for from CS department has total marks greater than 750, they will receive \"High Achiever Scholarship\". \n",
    "#### if a student's total marks is from 650 and 750, they will receive \"Achiever Scholarship\"."
   ]
  },
  {
   "cell_type": "code",
   "execution_count": 6,
   "metadata": {},
   "outputs": [
    {
     "name": "stdout",
     "output_type": "stream",
     "text": [
      "[680, 750, 530, 650, 796]\n",
      "['B', 'NB', 'NB', 'B', 'NB']\n"
     ]
    }
   ],
   "source": [
    "print(total_marks)\n",
    "print(backlogs)"
   ]
  },
  {
   "cell_type": "code",
   "execution_count": 7,
   "metadata": {},
   "outputs": [],
   "source": [
    "scholarships = ['No Scholarhip' for _ in range(len(student_ids))]"
   ]
  },
  {
   "cell_type": "code",
   "execution_count": 8,
   "metadata": {},
   "outputs": [
    {
     "data": {
      "text/plain": [
       "['No Scholarhip',\n",
       " 'No Scholarhip',\n",
       " 'No Scholarhip',\n",
       " 'No Scholarhip',\n",
       " 'No Scholarhip']"
      ]
     },
     "execution_count": 8,
     "metadata": {},
     "output_type": "execute_result"
    }
   ],
   "source": [
    "scholarships"
   ]
  },
  {
   "cell_type": "code",
   "execution_count": 12,
   "metadata": {},
   "outputs": [],
   "source": [
    "scholarships=[]\n",
    "for i in range(len(student_ids)):\n",
    "    scholarships.append(\"No Scholarship\")"
   ]
  },
  {
   "cell_type": "code",
   "execution_count": 13,
   "metadata": {},
   "outputs": [
    {
     "data": {
      "text/plain": [
       "['No Scholarship',\n",
       " 'No Scholarship',\n",
       " 'No Scholarship',\n",
       " 'No Scholarship',\n",
       " 'No Scholarship']"
      ]
     },
     "execution_count": 13,
     "metadata": {},
     "output_type": "execute_result"
    }
   ],
   "source": [
    "scholarships"
   ]
  },
  {
   "cell_type": "code",
   "execution_count": 18,
   "metadata": {},
   "outputs": [
    {
     "name": "stdout",
     "output_type": "stream",
     "text": [
      "No scholarship awarded to S01\n",
      "Achiever Scholarship Awarded to S02\n",
      "No scholarship awarded to S03\n",
      "No scholarship awarded to S04\n",
      "High Achiever Scholarship Awarded to S05\n"
     ]
    }
   ],
   "source": [
    "scholarships = ['No Scholarhip' for _ in range(len(student_ids))]\n",
    "\n",
    "for i in range(len(student_ids)):\n",
    "    if (dept[i]=='CS' and total_marks[i]>750 and backlogs[i]=='NB'):\n",
    "        scholarships[i]='High Achiever Scholarship'\n",
    "        print(f\"High Achiever Scholarship Awarded to {student_ids[i]}\")\n",
    "    elif (backlogs[i]=='NB' and total_marks[i]>650 and total_marks[i]<=750):\n",
    "        scholarships[i]='Achiever Scholarship'\n",
    "        print(f\"Achiever Scholarship Awarded to {student_ids[i]}\")\n",
    "    else:\n",
    "        print(f\"No scholarship awarded to {student_ids[i]}\")"
   ]
  },
  {
   "cell_type": "code",
   "execution_count": 19,
   "metadata": {},
   "outputs": [
    {
     "data": {
      "text/plain": [
       "['No Scholarhip',\n",
       " 'Achiever Scholarship',\n",
       " 'No Scholarhip',\n",
       " 'No Scholarhip',\n",
       " 'High Achiever Scholarship']"
      ]
     },
     "execution_count": 19,
     "metadata": {},
     "output_type": "execute_result"
    }
   ],
   "source": [
    "scholarships"
   ]
  },
  {
   "cell_type": "code",
   "execution_count": 20,
   "metadata": {},
   "outputs": [],
   "source": [
    "std_db = {\n",
    "    \"student_ids\":student_ids,\n",
    "    \"gender\":gender,\n",
    "    \"dept\":dept,\n",
    "    \"sessional_perc\":sessional_perc,\n",
    "    \"total_marks\":total_marks,\n",
    "    \"backlogs\":backlogs,\n",
    "    \"scholarships\":scholarships\n",
    "}"
   ]
  },
  {
   "cell_type": "code",
   "execution_count": 21,
   "metadata": {},
   "outputs": [
    {
     "data": {
      "text/plain": [
       "['S01', 'S02', 'S03', 'S04', 'S05']"
      ]
     },
     "execution_count": 21,
     "metadata": {},
     "output_type": "execute_result"
    }
   ],
   "source": [
    "std_db[\"student_ids\"]"
   ]
  },
  {
   "cell_type": "code",
   "execution_count": 22,
   "metadata": {},
   "outputs": [
    {
     "data": {
      "text/plain": [
       "[680, 750, 530, 650, 796]"
      ]
     },
     "execution_count": 22,
     "metadata": {},
     "output_type": "execute_result"
    }
   ],
   "source": [
    "std_db[\"total_marks\"]"
   ]
  },
  {
   "cell_type": "code",
   "execution_count": 23,
   "metadata": {},
   "outputs": [
    {
     "data": {
      "text/plain": [
       "['No Scholarhip',\n",
       " 'Achiever Scholarship',\n",
       " 'No Scholarhip',\n",
       " 'No Scholarhip',\n",
       " 'High Achiever Scholarship']"
      ]
     },
     "execution_count": 23,
     "metadata": {},
     "output_type": "execute_result"
    }
   ],
   "source": [
    "std_db[\"scholarships\"]"
   ]
  },
  {
   "cell_type": "code",
   "execution_count": 25,
   "metadata": {},
   "outputs": [
    {
     "data": {
      "text/plain": [
       "dict_keys(['student_ids', 'gender', 'dept', 'sessional_perc', 'total_marks', 'backlogs', 'scholarships'])"
      ]
     },
     "execution_count": 25,
     "metadata": {},
     "output_type": "execute_result"
    }
   ],
   "source": [
    "std_db.keys()"
   ]
  },
  {
   "cell_type": "code",
   "execution_count": 26,
   "metadata": {},
   "outputs": [
    {
     "data": {
      "text/plain": [
       "dict_values([['S01', 'S02', 'S03', 'S04', 'S05'], ['M', 'F', 'F', 'M', 'F'], ['CS', 'ECE', 'ME', 'CS', 'CS'], [45, 60, 73, 65.3, 71.9], [680, 750, 530, 650, 796], ['B', 'NB', 'NB', 'B', 'NB'], ['No Scholarhip', 'Achiever Scholarship', 'No Scholarhip', 'No Scholarhip', 'High Achiever Scholarship']])"
      ]
     },
     "execution_count": 26,
     "metadata": {},
     "output_type": "execute_result"
    }
   ],
   "source": [
    "std_db.values()"
   ]
  },
  {
   "cell_type": "code",
   "execution_count": 27,
   "metadata": {},
   "outputs": [
    {
     "data": {
      "text/plain": [
       "dict_items([('student_ids', ['S01', 'S02', 'S03', 'S04', 'S05']), ('gender', ['M', 'F', 'F', 'M', 'F']), ('dept', ['CS', 'ECE', 'ME', 'CS', 'CS']), ('sessional_perc', [45, 60, 73, 65.3, 71.9]), ('total_marks', [680, 750, 530, 650, 796]), ('backlogs', ['B', 'NB', 'NB', 'B', 'NB']), ('scholarships', ['No Scholarhip', 'Achiever Scholarship', 'No Scholarhip', 'No Scholarhip', 'High Achiever Scholarship'])])"
      ]
     },
     "execution_count": 27,
     "metadata": {},
     "output_type": "execute_result"
    }
   ],
   "source": [
    "std_db.items()"
   ]
  }
 ],
 "metadata": {
  "kernelspec": {
   "display_name": "Python 3",
   "language": "python",
   "name": "python3"
  },
  "language_info": {
   "codemirror_mode": {
    "name": "ipython",
    "version": 3
   },
   "file_extension": ".py",
   "mimetype": "text/x-python",
   "name": "python",
   "nbconvert_exporter": "python",
   "pygments_lexer": "ipython3",
   "version": "3.12.4"
  }
 },
 "nbformat": 4,
 "nbformat_minor": 2
}
