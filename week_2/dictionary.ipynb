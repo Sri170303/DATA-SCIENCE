{
 "cells": [
  {
   "cell_type": "code",
   "execution_count": 1,
   "metadata": {},
   "outputs": [],
   "source": [
    "dict1 = {}"
   ]
  },
  {
   "cell_type": "code",
   "execution_count": 2,
   "metadata": {},
   "outputs": [
    {
     "data": {
      "text/plain": [
       "dict"
      ]
     },
     "execution_count": 2,
     "metadata": {},
     "output_type": "execute_result"
    }
   ],
   "source": [
    "type(dict1)"
   ]
  },
  {
   "cell_type": "code",
   "execution_count": 3,
   "metadata": {},
   "outputs": [],
   "source": [
    "dict1={'key':'value'}"
   ]
  },
  {
   "cell_type": "code",
   "execution_count": 4,
   "metadata": {},
   "outputs": [
    {
     "data": {
      "text/plain": [
       "{'key': 'value'}"
      ]
     },
     "execution_count": 4,
     "metadata": {},
     "output_type": "execute_result"
    }
   ],
   "source": [
    "dict1"
   ]
  },
  {
   "cell_type": "code",
   "execution_count": 5,
   "metadata": {},
   "outputs": [],
   "source": [
    "dict2 = {'name':'jerry','email':'jerry@gmail.com','number':8765432190}"
   ]
  },
  {
   "cell_type": "code",
   "execution_count": 6,
   "metadata": {},
   "outputs": [
    {
     "data": {
      "text/plain": [
       "{'name': 'jerry', 'email': 'jerry@gmail.com', 'number': 8765432190}"
      ]
     },
     "execution_count": 6,
     "metadata": {},
     "output_type": "execute_result"
    }
   ],
   "source": [
    "dict2"
   ]
  },
  {
   "cell_type": "code",
   "execution_count": 7,
   "metadata": {},
   "outputs": [],
   "source": [
    "dict3 = {1:'jerry', 2:'jerry@gmail.com', 3:8765432190}"
   ]
  },
  {
   "cell_type": "code",
   "execution_count": 8,
   "metadata": {},
   "outputs": [
    {
     "data": {
      "text/plain": [
       "{1: 'jerry', 2: 'jerry@gmail.com', 3: 8765432190}"
      ]
     },
     "execution_count": 8,
     "metadata": {},
     "output_type": "execute_result"
    }
   ],
   "source": [
    "dict3"
   ]
  },
  {
   "cell_type": "code",
   "execution_count": 9,
   "metadata": {},
   "outputs": [],
   "source": [
    "dict3 = {True:'jerry', True:'jerry@gmail.com', 3:8765432190}"
   ]
  },
  {
   "cell_type": "code",
   "execution_count": 10,
   "metadata": {},
   "outputs": [
    {
     "data": {
      "text/plain": [
       "{True: 'jerry@gmail.com', 3: 8765432190}"
      ]
     },
     "execution_count": 10,
     "metadata": {},
     "output_type": "execute_result"
    }
   ],
   "source": [
    "dict3"
   ]
  },
  {
   "cell_type": "code",
   "execution_count": 11,
   "metadata": {},
   "outputs": [
    {
     "ename": "SyntaxError",
     "evalue": "invalid syntax (1208568596.py, line 1)",
     "output_type": "error",
     "traceback": [
      "\u001b[1;36m  Cell \u001b[1;32mIn[11], line 1\u001b[1;36m\u001b[0m\n\u001b[1;33m    dict3 = { @1:'jerry', True:'jerry@gmail.com', 3:8765432190}\u001b[0m\n\u001b[1;37m              ^\u001b[0m\n\u001b[1;31mSyntaxError\u001b[0m\u001b[1;31m:\u001b[0m invalid syntax\n"
     ]
    }
   ],
   "source": [
    "dict3 = { @1:'jerry', True:'jerry@gmail.com', 3:8765432190}"
   ]
  },
  {
   "cell_type": "code",
   "execution_count": null,
   "metadata": {},
   "outputs": [
    {
     "ename": "SyntaxError",
     "evalue": "invalid decimal literal (1933142254.py, line 1)",
     "output_type": "error",
     "traceback": [
      "\u001b[1;36m  Cell \u001b[1;32mIn[13], line 1\u001b[1;36m\u001b[0m\n\u001b[1;33m    dict3 = { True:'jerry', 1AA:'jerry@gmail.com', 3:8765432190}\u001b[0m\n\u001b[1;37m                            ^\u001b[0m\n\u001b[1;31mSyntaxError\u001b[0m\u001b[1;31m:\u001b[0m invalid decimal literal\n"
     ]
    }
   ],
   "source": [
    "dict3 = { True:'jerry', 1AA:'jerry@gmail.com', 3:8765432190}"
   ]
  },
  {
   "cell_type": "code",
   "execution_count": 12,
   "metadata": {},
   "outputs": [
    {
     "data": {
      "text/plain": [
       "'jerry@gmail.com'"
      ]
     },
     "execution_count": 12,
     "metadata": {},
     "output_type": "execute_result"
    }
   ],
   "source": [
    "dict3[True]"
   ]
  },
  {
   "cell_type": "code",
   "execution_count": 13,
   "metadata": {},
   "outputs": [
    {
     "data": {
      "text/plain": [
       "8765432190"
      ]
     },
     "execution_count": 13,
     "metadata": {},
     "output_type": "execute_result"
    }
   ],
   "source": [
    "dict3[3]"
   ]
  },
  {
   "cell_type": "code",
   "execution_count": 14,
   "metadata": {},
   "outputs": [
    {
     "data": {
      "text/plain": [
       "'jerry@gmail.com'"
      ]
     },
     "execution_count": 14,
     "metadata": {},
     "output_type": "execute_result"
    }
   ],
   "source": [
    "dict3[1]"
   ]
  },
  {
   "cell_type": "code",
   "execution_count": 15,
   "metadata": {},
   "outputs": [
    {
     "data": {
      "text/plain": [
       "{'name': 'jerry', 'email': 'jerry@gmail.com', 'number': 8765432190}"
      ]
     },
     "execution_count": 15,
     "metadata": {},
     "output_type": "execute_result"
    }
   ],
   "source": [
    "dict2"
   ]
  },
  {
   "cell_type": "code",
   "execution_count": 16,
   "metadata": {},
   "outputs": [],
   "source": [
    "dict2['name']='john'"
   ]
  },
  {
   "cell_type": "code",
   "execution_count": 17,
   "metadata": {},
   "outputs": [
    {
     "data": {
      "text/plain": [
       "{'name': 'john', 'email': 'jerry@gmail.com', 'number': 8765432190}"
      ]
     },
     "execution_count": 17,
     "metadata": {},
     "output_type": "execute_result"
    }
   ],
   "source": [
    "dict2"
   ]
  },
  {
   "cell_type": "code",
   "execution_count": 18,
   "metadata": {},
   "outputs": [],
   "source": [
    "dict4 = {'company':'pwskills','courses':['web_dev','java_with_dsa','data_science']}"
   ]
  },
  {
   "cell_type": "code",
   "execution_count": 19,
   "metadata": {},
   "outputs": [
    {
     "data": {
      "text/plain": [
       "{'company': 'pwskills',\n",
       " 'courses': ['web_dev', 'java_with_dsa', 'data_science']}"
      ]
     },
     "execution_count": 19,
     "metadata": {},
     "output_type": "execute_result"
    }
   ],
   "source": [
    "dict4"
   ]
  },
  {
   "cell_type": "code",
   "execution_count": 20,
   "metadata": {},
   "outputs": [
    {
     "data": {
      "text/plain": [
       "['web_dev', 'java_with_dsa', 'data_science']"
      ]
     },
     "execution_count": 20,
     "metadata": {},
     "output_type": "execute_result"
    }
   ],
   "source": [
    "dict4['courses']"
   ]
  },
  {
   "cell_type": "code",
   "execution_count": 21,
   "metadata": {},
   "outputs": [
    {
     "data": {
      "text/plain": [
       "'java_with_dsa'"
      ]
     },
     "execution_count": 21,
     "metadata": {},
     "output_type": "execute_result"
    }
   ],
   "source": [
    "dict4[\"courses\"][1]"
   ]
  },
  {
   "cell_type": "code",
   "execution_count": 22,
   "metadata": {},
   "outputs": [],
   "source": [
    "dict5 = {'number':[2,3,4,5,6],'assignment':(1,2,3,4,5,6)}"
   ]
  },
  {
   "cell_type": "code",
   "execution_count": 23,
   "metadata": {},
   "outputs": [
    {
     "data": {
      "text/plain": [
       "{'number': [2, 3, 4, 5, 6], 'assignment': (1, 2, 3, 4, 5, 6)}"
      ]
     },
     "execution_count": 23,
     "metadata": {},
     "output_type": "execute_result"
    }
   ],
   "source": [
    "dict5"
   ]
  },
  {
   "cell_type": "code",
   "execution_count": 24,
   "metadata": {},
   "outputs": [],
   "source": [
    "dict5={\"number\":{1,2,3},\"courses\":['web_dev','java_with_dsa','data_science'],\"class_time\":{\"web_dev\":8,\"java_with_dsa\":11,\"data_science\":3}}"
   ]
  },
  {
   "cell_type": "code",
   "execution_count": 25,
   "metadata": {},
   "outputs": [
    {
     "data": {
      "text/plain": [
       "{'number': {1, 2, 3},\n",
       " 'courses': ['web_dev', 'java_with_dsa', 'data_science'],\n",
       " 'class_time': {'web_dev': 8, 'java_with_dsa': 11, 'data_science': 3}}"
      ]
     },
     "execution_count": 25,
     "metadata": {},
     "output_type": "execute_result"
    }
   ],
   "source": [
    "dict5"
   ]
  },
  {
   "cell_type": "code",
   "execution_count": 26,
   "metadata": {},
   "outputs": [],
   "source": [
    "dict5[\"mentor\"]=[\"Vishwa\",\"Hayder\",\"Sudhanshu\"]"
   ]
  },
  {
   "cell_type": "code",
   "execution_count": 27,
   "metadata": {},
   "outputs": [
    {
     "data": {
      "text/plain": [
       "{'number': {1, 2, 3},\n",
       " 'courses': ['web_dev', 'java_with_dsa', 'data_science'],\n",
       " 'class_time': {'web_dev': 8, 'java_with_dsa': 11, 'data_science': 3},\n",
       " 'mentor': ['Vishwa', 'Hayder', 'Sudhanshu']}"
      ]
     },
     "execution_count": 27,
     "metadata": {},
     "output_type": "execute_result"
    }
   ],
   "source": [
    "dict5"
   ]
  },
  {
   "cell_type": "code",
   "execution_count": 28,
   "metadata": {},
   "outputs": [],
   "source": [
    "del dict5[\"number\"]"
   ]
  },
  {
   "cell_type": "code",
   "execution_count": 29,
   "metadata": {},
   "outputs": [
    {
     "data": {
      "text/plain": [
       "{'courses': ['web_dev', 'java_with_dsa', 'data_science'],\n",
       " 'class_time': {'web_dev': 8, 'java_with_dsa': 11, 'data_science': 3},\n",
       " 'mentor': ['Vishwa', 'Hayder', 'Sudhanshu']}"
      ]
     },
     "execution_count": 29,
     "metadata": {},
     "output_type": "execute_result"
    }
   ],
   "source": [
    "dict5"
   ]
  },
  {
   "cell_type": "code",
   "execution_count": 30,
   "metadata": {},
   "outputs": [
    {
     "data": {
      "text/plain": [
       "['courses', 'class_time', 'mentor']"
      ]
     },
     "execution_count": 30,
     "metadata": {},
     "output_type": "execute_result"
    }
   ],
   "source": [
    "list(dict5.keys())"
   ]
  },
  {
   "cell_type": "code",
   "execution_count": 31,
   "metadata": {},
   "outputs": [
    {
     "data": {
      "text/plain": [
       "[['web_dev', 'java_with_dsa', 'data_science'],\n",
       " {'web_dev': 8, 'java_with_dsa': 11, 'data_science': 3},\n",
       " ['Vishwa', 'Hayder', 'Sudhanshu']]"
      ]
     },
     "execution_count": 31,
     "metadata": {},
     "output_type": "execute_result"
    }
   ],
   "source": [
    "list(dict5.values())"
   ]
  },
  {
   "cell_type": "code",
   "execution_count": 32,
   "metadata": {},
   "outputs": [
    {
     "data": {
      "text/plain": [
       "[('courses', ['web_dev', 'java_with_dsa', 'data_science']),\n",
       " ('class_time', {'web_dev': 8, 'java_with_dsa': 11, 'data_science': 3}),\n",
       " ('mentor', ['Vishwa', 'Hayder', 'Sudhanshu'])]"
      ]
     },
     "execution_count": 32,
     "metadata": {},
     "output_type": "execute_result"
    }
   ],
   "source": [
    "list(dict5.items())"
   ]
  },
  {
   "cell_type": "code",
   "execution_count": 33,
   "metadata": {},
   "outputs": [
    {
     "ename": "TypeError",
     "evalue": "pop expected at least 1 argument, got 0",
     "output_type": "error",
     "traceback": [
      "\u001b[1;31m---------------------------------------------------------------------------\u001b[0m",
      "\u001b[1;31mTypeError\u001b[0m                                 Traceback (most recent call last)",
      "Cell \u001b[1;32mIn[33], line 1\u001b[0m\n\u001b[1;32m----> 1\u001b[0m \u001b[43mdict5\u001b[49m\u001b[38;5;241;43m.\u001b[39;49m\u001b[43mpop\u001b[49m\u001b[43m(\u001b[49m\u001b[43m)\u001b[49m\n",
      "\u001b[1;31mTypeError\u001b[0m: pop expected at least 1 argument, got 0"
     ]
    }
   ],
   "source": [
    "dict5.pop()"
   ]
  },
  {
   "cell_type": "code",
   "execution_count": 34,
   "metadata": {},
   "outputs": [],
   "source": [
    "mentor = dict5.pop('mentor')"
   ]
  },
  {
   "cell_type": "code",
   "execution_count": 35,
   "metadata": {},
   "outputs": [
    {
     "data": {
      "text/plain": [
       "['Vishwa', 'Hayder', 'Sudhanshu']"
      ]
     },
     "execution_count": 35,
     "metadata": {},
     "output_type": "execute_result"
    }
   ],
   "source": [
    "mentor"
   ]
  },
  {
   "cell_type": "code",
   "execution_count": 36,
   "metadata": {},
   "outputs": [
    {
     "data": {
      "text/plain": [
       "{'courses': ['web_dev', 'java_with_dsa', 'data_science'],\n",
       " 'class_time': {'web_dev': 8, 'java_with_dsa': 11, 'data_science': 3}}"
      ]
     },
     "execution_count": 36,
     "metadata": {},
     "output_type": "execute_result"
    }
   ],
   "source": [
    "dict5"
   ]
  },
  {
   "cell_type": "code",
   "execution_count": 37,
   "metadata": {},
   "outputs": [
    {
     "data": {
      "text/plain": [
       "{'1': '_',\n",
       " '2': '_',\n",
       " '3': '_',\n",
       " '4': '_',\n",
       " '5': '_',\n",
       " '6': '_',\n",
       " '7': '_',\n",
       " '8': '_',\n",
       " '9': '_'}"
      ]
     },
     "execution_count": 37,
     "metadata": {},
     "output_type": "execute_result"
    }
   ],
   "source": [
    "{}.fromkeys(\"123456789\",'_')"
   ]
  },
  {
   "cell_type": "code",
   "execution_count": 38,
   "metadata": {},
   "outputs": [
    {
     "data": {
      "text/plain": [
       "{1: 'value not set',\n",
       " 2: 'value not set',\n",
       " 3: 'value not set',\n",
       " 4: 'value not set',\n",
       " 5: 'value not set',\n",
       " 6: 'value not set',\n",
       " 7: 'value not set',\n",
       " 8: 'value not set',\n",
       " 9: 'value not set',\n",
       " 10: 'value not set',\n",
       " 11: 'value not set',\n",
       " 12: 'value not set',\n",
       " 13: 'value not set',\n",
       " 14: 'value not set',\n",
       " 15: 'value not set',\n",
       " 16: 'value not set',\n",
       " 17: 'value not set',\n",
       " 18: 'value not set',\n",
       " 19: 'value not set',\n",
       " 20: 'value not set',\n",
       " 21: 'value not set',\n",
       " 22: 'value not set',\n",
       " 23: 'value not set',\n",
       " 24: 'value not set',\n",
       " 25: 'value not set',\n",
       " 26: 'value not set',\n",
       " 27: 'value not set',\n",
       " 28: 'value not set',\n",
       " 29: 'value not set',\n",
       " 30: 'value not set',\n",
       " 31: 'value not set',\n",
       " 32: 'value not set',\n",
       " 33: 'value not set',\n",
       " 34: 'value not set',\n",
       " 35: 'value not set',\n",
       " 36: 'value not set',\n",
       " 37: 'value not set',\n",
       " 38: 'value not set',\n",
       " 39: 'value not set',\n",
       " 40: 'value not set',\n",
       " 41: 'value not set',\n",
       " 42: 'value not set',\n",
       " 43: 'value not set',\n",
       " 44: 'value not set',\n",
       " 45: 'value not set',\n",
       " 46: 'value not set',\n",
       " 47: 'value not set',\n",
       " 48: 'value not set',\n",
       " 49: 'value not set',\n",
       " 50: 'value not set',\n",
       " 51: 'value not set',\n",
       " 52: 'value not set',\n",
       " 53: 'value not set',\n",
       " 54: 'value not set',\n",
       " 55: 'value not set',\n",
       " 56: 'value not set',\n",
       " 57: 'value not set',\n",
       " 58: 'value not set',\n",
       " 59: 'value not set',\n",
       " 60: 'value not set',\n",
       " 61: 'value not set',\n",
       " 62: 'value not set',\n",
       " 63: 'value not set',\n",
       " 64: 'value not set',\n",
       " 65: 'value not set',\n",
       " 66: 'value not set',\n",
       " 67: 'value not set',\n",
       " 68: 'value not set',\n",
       " 69: 'value not set',\n",
       " 70: 'value not set',\n",
       " 71: 'value not set',\n",
       " 72: 'value not set',\n",
       " 73: 'value not set',\n",
       " 74: 'value not set',\n",
       " 75: 'value not set',\n",
       " 76: 'value not set',\n",
       " 77: 'value not set',\n",
       " 78: 'value not set',\n",
       " 79: 'value not set',\n",
       " 80: 'value not set',\n",
       " 81: 'value not set',\n",
       " 82: 'value not set',\n",
       " 83: 'value not set',\n",
       " 84: 'value not set',\n",
       " 85: 'value not set',\n",
       " 86: 'value not set',\n",
       " 87: 'value not set',\n",
       " 88: 'value not set',\n",
       " 89: 'value not set',\n",
       " 90: 'value not set',\n",
       " 91: 'value not set',\n",
       " 92: 'value not set',\n",
       " 93: 'value not set',\n",
       " 94: 'value not set',\n",
       " 95: 'value not set',\n",
       " 96: 'value not set',\n",
       " 97: 'value not set',\n",
       " 98: 'value not set',\n",
       " 99: 'value not set',\n",
       " 100: 'value not set'}"
      ]
     },
     "execution_count": 38,
     "metadata": {},
     "output_type": "execute_result"
    }
   ],
   "source": [
    "{}.fromkeys([x for x in range(1,101)],'value not set')"
   ]
  },
  {
   "cell_type": "code",
   "execution_count": 39,
   "metadata": {},
   "outputs": [
    {
     "name": "stdout",
     "output_type": "stream",
     "text": [
      "A1 batch assigned\n"
     ]
    }
   ],
   "source": [
    "marks = int(input())\n",
    "if marks>=80:\n",
    "    print(\"A1 batch assigned\")\n",
    "elif marks>=60:\n",
    "    print(\"A2 batch assigned\")\n",
    "elif marks>=40:\n",
    "    print(\"A3 batch assigned\")\n",
    "else:\n",
    "    print(\"A4 batch assigned\")"
   ]
  },
  {
   "cell_type": "code",
   "execution_count": 40,
   "metadata": {},
   "outputs": [
    {
     "name": "stdout",
     "output_type": "stream",
     "text": [
      "A1 batch assigned\n"
     ]
    }
   ],
   "source": [
    "marks = int(input(\"Enter your marks : \"))\n",
    "if(marks<=100 and marks>=0):\n",
    "    if marks>=80:\n",
    "        print(\"A1 batch assigned\")\n",
    "    elif marks>=60:\n",
    "        print(\"A2 batch assigned\")\n",
    "    elif marks>=40:\n",
    "        print(\"A3 batch assigned\")\n",
    "    else:\n",
    "        print(\"A4 batch assigned\")\n",
    "else:\n",
    "    print(\"invalid marks entered\")"
   ]
  },
  {
   "cell_type": "code",
   "execution_count": 41,
   "metadata": {},
   "outputs": [
    {
     "name": "stdout",
     "output_type": "stream",
     "text": [
      "I'll purchase\n"
     ]
    }
   ],
   "source": [
    "price = int(input(\"Enter price : \"))\n",
    "if price>2000:\n",
    "    print(\"I will not purchase\\nPrice is too high\")\n",
    "elif price>1000:\n",
    "    print(\"Not interested\\n\")\n",
    "else:\n",
    "    print(\"I'll purchase\")\n"
   ]
  },
  {
   "cell_type": "code",
   "execution_count": 42,
   "metadata": {},
   "outputs": [],
   "source": [
    "l = list(range(1,11))"
   ]
  },
  {
   "cell_type": "code",
   "execution_count": 43,
   "metadata": {},
   "outputs": [
    {
     "data": {
      "text/plain": [
       "[1, 2, 3, 4, 5, 6, 7, 8, 9, 10]"
      ]
     },
     "execution_count": 43,
     "metadata": {},
     "output_type": "execute_result"
    }
   ],
   "source": [
    "l"
   ]
  },
  {
   "cell_type": "code",
   "execution_count": 44,
   "metadata": {},
   "outputs": [],
   "source": [
    "for i in range(len(l)):\n",
    "    l[i]+=10"
   ]
  },
  {
   "cell_type": "code",
   "execution_count": 45,
   "metadata": {},
   "outputs": [
    {
     "data": {
      "text/plain": [
       "[11, 12, 13, 14, 15, 16, 17, 18, 19, 20]"
      ]
     },
     "execution_count": 45,
     "metadata": {},
     "output_type": "execute_result"
    }
   ],
   "source": [
    "l"
   ]
  },
  {
   "cell_type": "code",
   "execution_count": 47,
   "metadata": {},
   "outputs": [],
   "source": [
    "s = \"jerry\""
   ]
  },
  {
   "cell_type": "code",
   "execution_count": 48,
   "metadata": {},
   "outputs": [
    {
     "name": "stdout",
     "output_type": "stream",
     "text": [
      "j\n",
      "e\n",
      "r\n",
      "r\n",
      "y\n"
     ]
    }
   ],
   "source": [
    "for i in s:\n",
    "    print(i)"
   ]
  },
  {
   "cell_type": "code",
   "execution_count": 49,
   "metadata": {},
   "outputs": [],
   "source": [
    "l=[\"jerry\",\"pwskills\",\"course\"]"
   ]
  },
  {
   "cell_type": "code",
   "execution_count": 50,
   "metadata": {},
   "outputs": [
    {
     "name": "stdout",
     "output_type": "stream",
     "text": [
      "JERRY\n",
      "PWSKILLS\n",
      "COURSE\n"
     ]
    }
   ],
   "source": [
    "for i in l:\n",
    "    print(i.upper())"
   ]
  },
  {
   "cell_type": "code",
   "execution_count": 54,
   "metadata": {},
   "outputs": [
    {
     "name": "stdout",
     "output_type": "stream",
     "text": [
      "jerry\n",
      "pwskills\n",
      "course\n"
     ]
    }
   ],
   "source": [
    "l1=[]\n",
    "for i in l:\n",
    "    print(i)\n",
    "    l1.append(i.upper())"
   ]
  },
  {
   "cell_type": "code",
   "execution_count": 55,
   "metadata": {},
   "outputs": [
    {
     "data": {
      "text/plain": [
       "['JERRY', 'PWSKILLS', 'COURSE']"
      ]
     },
     "execution_count": 55,
     "metadata": {},
     "output_type": "execute_result"
    }
   ],
   "source": [
    "l1"
   ]
  },
  {
   "cell_type": "code",
   "execution_count": 56,
   "metadata": {},
   "outputs": [
    {
     "data": {
      "text/plain": [
       "['jerry', 'pwskills', 'course']"
      ]
     },
     "execution_count": 56,
     "metadata": {},
     "output_type": "execute_result"
    }
   ],
   "source": [
    "l"
   ]
  },
  {
   "cell_type": "code",
   "execution_count": 57,
   "metadata": {},
   "outputs": [
    {
     "data": {
      "text/plain": [
       "['JERRY', 'PWSKILLS', 'COURSE']"
      ]
     },
     "execution_count": 57,
     "metadata": {},
     "output_type": "execute_result"
    }
   ],
   "source": [
    "l1"
   ]
  },
  {
   "cell_type": "code",
   "execution_count": 58,
   "metadata": {},
   "outputs": [],
   "source": [
    "l = [1,2,3,4,\"jerry\",\"kuamr\",23.44,\"abc\",833]\n",
    "num_data = []\n",
    "str_data = []\n",
    "for i in l:\n",
    "    if(type(i)==int or type(i)==float):\n",
    "        num_data.append(i)\n",
    "    else:\n",
    "        str_data.append(i)"
   ]
  },
  {
   "cell_type": "code",
   "execution_count": 59,
   "metadata": {},
   "outputs": [
    {
     "data": {
      "text/plain": [
       "[1, 2, 3, 4, 23.44, 833]"
      ]
     },
     "execution_count": 59,
     "metadata": {},
     "output_type": "execute_result"
    }
   ],
   "source": [
    "num_data"
   ]
  },
  {
   "cell_type": "code",
   "execution_count": 60,
   "metadata": {},
   "outputs": [
    {
     "data": {
      "text/plain": [
       "['jerry', 'kuamr', 'abc']"
      ]
     },
     "execution_count": 60,
     "metadata": {},
     "output_type": "execute_result"
    }
   ],
   "source": [
    "str_data"
   ]
  },
  {
   "cell_type": "code",
   "execution_count": null,
   "metadata": {},
   "outputs": [],
   "source": []
  }
 ],
 "metadata": {
  "kernelspec": {
   "display_name": "Python 3",
   "language": "python",
   "name": "python3"
  },
  "language_info": {
   "codemirror_mode": {
    "name": "ipython",
    "version": 3
   },
   "file_extension": ".py",
   "mimetype": "text/x-python",
   "name": "python",
   "nbconvert_exporter": "python",
   "pygments_lexer": "ipython3",
   "version": "3.12.4"
  }
 },
 "nbformat": 4,
 "nbformat_minor": 2
}
