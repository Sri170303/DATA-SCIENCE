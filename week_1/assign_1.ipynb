{
 "cells": [
  {
   "cell_type": "markdown",
   "metadata": {},
   "source": [
    "from IPython.display import Image "
   ]
  },
  {
   "cell_type": "code",
   "execution_count": 2,
   "metadata": {},
   "outputs": [
    {
     "data": {
      "text/html": [
       "<img src=\"./assign_1/q1.png\"/>"
      ],
      "text/plain": [
       "<IPython.core.display.Image object>"
      ]
     },
     "execution_count": 2,
     "metadata": {},
     "output_type": "execute_result"
    }
   ],
   "source": [
    "Image(url=\"./assign_1/q1.png\")"
   ]
  },
  {
   "cell_type": "code",
   "execution_count": 3,
   "metadata": {},
   "outputs": [],
   "source": [
    "str1 = \"jerry\"\n",
    "lst1 = [1,2,3,4]\n",
    "float1 = 33.33\n",
    "tup1 = (1,2,3,4)"
   ]
  },
  {
   "cell_type": "code",
   "execution_count": 4,
   "metadata": {},
   "outputs": [
    {
     "data": {
      "text/html": [
       "<img src=\"./assign_1/q2.png\"/>"
      ],
      "text/plain": [
       "<IPython.core.display.Image object>"
      ]
     },
     "execution_count": 4,
     "metadata": {},
     "output_type": "execute_result"
    }
   ],
   "source": [
    "Image(url=\"./assign_1/q2.png\")"
   ]
  },
  {
   "cell_type": "code",
   "execution_count": 5,
   "metadata": {},
   "outputs": [
    {
     "data": {
      "text/plain": [
       "(str, str, list, int)"
      ]
     },
     "execution_count": 5,
     "metadata": {},
     "output_type": "execute_result"
    }
   ],
   "source": [
    "var1=''\n",
    "var2='[DS,ML,Python]'\n",
    "var3=['DS','ML','Python']\n",
    "var4=1\n",
    "type(var1),type(var2),type(var3),type(var4)"
   ]
  },
  {
   "cell_type": "code",
   "execution_count": 6,
   "metadata": {},
   "outputs": [
    {
     "data": {
      "text/html": [
       "<img src=\"./assign_1/q3.png\"/>"
      ],
      "text/plain": [
       "<IPython.core.display.Image object>"
      ]
     },
     "execution_count": 6,
     "metadata": {},
     "output_type": "execute_result"
    }
   ],
   "source": [
    "Image(url=\"./assign_1/q3.png\")"
   ]
  },
  {
   "cell_type": "code",
   "execution_count": 7,
   "metadata": {},
   "outputs": [
    {
     "data": {
      "text/plain": [
       "(1.3333333333333333, 1, 1, 64)"
      ]
     },
     "execution_count": 7,
     "metadata": {},
     "output_type": "execute_result"
    }
   ],
   "source": [
    "4/3 , 4%3 , 4//3 , 4**3"
   ]
  },
  {
   "cell_type": "code",
   "execution_count": 8,
   "metadata": {},
   "outputs": [
    {
     "data": {
      "text/html": [
       "<img src=\"./assign_1/q4.png\"/>"
      ],
      "text/plain": [
       "<IPython.core.display.Image object>"
      ]
     },
     "execution_count": 8,
     "metadata": {},
     "output_type": "execute_result"
    }
   ],
   "source": [
    "Image(url=\"./assign_1/q4.png\")"
   ]
  },
  {
   "cell_type": "code",
   "execution_count": 9,
   "metadata": {},
   "outputs": [
    {
     "name": "stdout",
     "output_type": "stream",
     "text": [
      "10 <class 'int'>\n",
      "11.0 <class 'float'>\n",
      "True <class 'bool'>\n",
      "(5+4j) <class 'complex'>\n",
      "{1, 2, 3} <class 'set'>\n",
      "{'name': 'jerry', 'id': 21, 'email': 'jerry@gmail.com'} <class 'dict'>\n",
      "(1, 2, 3) <class 'tuple'>\n",
      "jerry <class 'str'>\n",
      "[1, 2, 3] <class 'list'>\n",
      "range(0, 10) <class 'range'>\n"
     ]
    },
    {
     "data": {
      "text/plain": [
       "10"
      ]
     },
     "execution_count": 9,
     "metadata": {},
     "output_type": "execute_result"
    }
   ],
   "source": [
    "lst = [10 , 11.0 , True , 5+4j , {1,2,3} , {\"name\":\"jerry\",\"id\":21,\"email\":\"jerry@gmail.com\"} , (1,2,3) , \"jerry\" , [1,2,3] , range(10)]\n",
    "for _ in lst:\n",
    "    print(_, type(_))\n",
    "len(lst)"
   ]
  },
  {
   "cell_type": "code",
   "execution_count": 10,
   "metadata": {},
   "outputs": [
    {
     "data": {
      "text/html": [
       "<img src=\"./assign_1/q5.png\"/>"
      ],
      "text/plain": [
       "<IPython.core.display.Image object>"
      ]
     },
     "execution_count": 10,
     "metadata": {},
     "output_type": "execute_result"
    }
   ],
   "source": [
    "Image(url=\"./assign_1/q5.png\")"
   ]
  },
  {
   "cell_type": "code",
   "execution_count": 11,
   "metadata": {},
   "outputs": [
    {
     "name": "stdout",
     "output_type": "stream",
     "text": [
      "Purely Divisible by 8 : True\n",
      "Number of times divisible : 125\n"
     ]
    }
   ],
   "source": [
    "num = int(input())\n",
    "int_quotient = 0\n",
    "div = 8\n",
    "while(num>=8):\n",
    "    num-=8\n",
    "    int_quotient+=1\n",
    "if(num==0):\n",
    "    print(f\"Purely Divisible by 8 : True\\nNumber of times divisible : {int_quotient}\")\n",
    "else:\n",
    "    print(\"Purely divisble by 8 : False\")"
   ]
  },
  {
   "cell_type": "code",
   "execution_count": 16,
   "metadata": {},
   "outputs": [
    {
     "data": {
      "text/html": [
       "<img src=\"./assign_1/q6.png\"/>"
      ],
      "text/plain": [
       "<IPython.core.display.Image object>"
      ]
     },
     "execution_count": 16,
     "metadata": {},
     "output_type": "execute_result"
    }
   ],
   "source": [
    "Image(url=\"./assign_1/q6.png\")"
   ]
  },
  {
   "cell_type": "code",
   "execution_count": 2,
   "metadata": {},
   "outputs": [
    {
     "name": "stdout",
     "output_type": "stream",
     "text": [
      "Divisibility Check by 3\n",
      "1 is not divisible\n",
      "2 is not divisible\n",
      "3 is divisible\n",
      "4 is not divisible\n",
      "5 is not divisible\n",
      "6 is divisible\n",
      "7 is not divisible\n",
      "8 is not divisible\n",
      "9 is divisible\n",
      "10 is not divisible\n",
      "11 is not divisible\n",
      "12 is divisible\n",
      "13 is not divisible\n",
      "14 is not divisible\n",
      "15 is divisible\n",
      "16 is not divisible\n",
      "17 is not divisible\n",
      "18 is divisible\n",
      "19 is not divisible\n",
      "20 is not divisible\n",
      "21 is divisible\n",
      "22 is not divisible\n",
      "23 is not divisible\n",
      "24 is divisible\n",
      "25 is not divisible\n"
     ]
    }
   ],
   "source": [
    "lst1 = list(range(1,26))\n",
    "print(\"Divisibility Check by 3\")\n",
    "for i in lst1:\n",
    "    if(i%3==0):\n",
    "        print(f\"{i} is divisible\")\n",
    "    else:\n",
    "        print(f\"{i} is not divisible\")"
   ]
  },
  {
   "cell_type": "code",
   "execution_count": 13,
   "metadata": {},
   "outputs": [
    {
     "data": {
      "text/html": [
       "<img src=\"./assign_1/q7.png\"/>"
      ],
      "text/plain": [
       "<IPython.core.display.Image object>"
      ]
     },
     "execution_count": 13,
     "metadata": {},
     "output_type": "execute_result"
    }
   ],
   "source": [
    "Image(url=\"./assign_1/q7.png\")"
   ]
  },
  {
   "cell_type": "code",
   "execution_count": 3,
   "metadata": {},
   "outputs": [],
   "source": [
    "# immutable data types are those ordered data types whose elements cannot be changed after creation\n",
    "# mutable data types allow change in indexed elements after creation"
   ]
  },
  {
   "cell_type": "code",
   "execution_count": 5,
   "metadata": {},
   "outputs": [],
   "source": [
    "lst1 = [1,2,3,4,5]\n",
    "lst1[1] = 22"
   ]
  },
  {
   "cell_type": "code",
   "execution_count": 6,
   "metadata": {},
   "outputs": [
    {
     "ename": "TypeError",
     "evalue": "'tuple' object does not support item assignment",
     "output_type": "error",
     "traceback": [
      "\u001b[1;31m---------------------------------------------------------------------------\u001b[0m",
      "\u001b[1;31mTypeError\u001b[0m                                 Traceback (most recent call last)",
      "Cell \u001b[1;32mIn[6], line 2\u001b[0m\n\u001b[0;32m      1\u001b[0m tup1\u001b[38;5;241m=\u001b[39m(\u001b[38;5;241m1\u001b[39m,\u001b[38;5;241m2\u001b[39m,\u001b[38;5;241m3\u001b[39m,\u001b[38;5;241m4\u001b[39m,\u001b[38;5;241m5\u001b[39m)\n\u001b[1;32m----> 2\u001b[0m \u001b[43mtup1\u001b[49m\u001b[43m[\u001b[49m\u001b[38;5;241;43m1\u001b[39;49m\u001b[43m]\u001b[49m \u001b[38;5;241m=\u001b[39m \u001b[38;5;241m22\u001b[39m\n",
      "\u001b[1;31mTypeError\u001b[0m: 'tuple' object does not support item assignment"
     ]
    }
   ],
   "source": [
    "tup1=(1,2,3,4,5)\n",
    "tup1[1] = 22"
   ]
  },
  {
   "cell_type": "code",
   "execution_count": null,
   "metadata": {},
   "outputs": [],
   "source": []
  }
 ],
 "metadata": {
  "kernelspec": {
   "display_name": "Python 3",
   "language": "python",
   "name": "python3"
  },
  "language_info": {
   "codemirror_mode": {
    "name": "ipython",
    "version": 3
   },
   "file_extension": ".py",
   "mimetype": "text/x-python",
   "name": "python",
   "nbconvert_exporter": "python",
   "pygments_lexer": "ipython3",
   "version": "3.12.4"
  }
 },
 "nbformat": 4,
 "nbformat_minor": 2
}
